{
  "cells": [
    {
      "cell_type": "markdown",
      "metadata": {
        "id": "_7cNt-avDKMn"
      },
      "source": [
        "# Sesión 02: Ejercicio regresión lineal\n",
        "Imagine que cuenta con los datos de la tabla y que corresponden al puntaje obtenido por estudiantes en los primeros dos exámenes:\n",
        "\n",
        "![image.png](data:image/png;base64,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)\n",
        "\n",
        "Genere un modelo que logre predecir el puntaje del segundo examen con base en el puntaje del primer examen y úselo para estimar el puntaje de un alumno que obtenga 43 en el primer examen. Inicie con pesos unitarios y haga dos iteraciones. Use un learning rate = 0.5"
      ]
    },
    {
      "cell_type": "markdown",
      "metadata": {
        "id": "t3TrqLifD8le"
      },
      "source": [
        "## Antes de empezar\n",
        "Lo primero que debemos hacer es cargar los datos (listas) y los valores iniciales de los hiper-parámetros. Para ello, debemos:"
      ]
    },
    {
      "cell_type": "code",
      "execution_count": 4,
      "metadata": {
        "id": "LTZXbaBREZ1i"
      },
      "outputs": [],
      "source": [
        "import numpy as np\n",
        "# Crear lista con los valores de la variable independiente (Examen 1\n",
        "# Crear lista con los valores de la variable dependiente (Examen 2)\n",
        "# Crear lista con los hiper-parámetros iniciales (thetas)\n",
        "# Cargar el valor del learning rate (alpha)\n",
        "x = np.array([59, 44, 51, 42])\n",
        "y = np.array([60, 55, 50, 66])\n",
        "\n",
        "theta_0 = 1\n",
        "theta_1 = 1\n",
        "alpha = 0.5\n",
        "m = len(x)"
      ]
    },
    {
      "cell_type": "markdown",
      "metadata": {
        "id": "SaRzpQZsE4R3"
      },
      "source": [
        "También ocupamos una alternativa que nos permita estimar fácilmente la variable dependiente y el total de muestras:"
      ]
    },
    {
      "cell_type": "code",
      "execution_count": 5,
      "metadata": {
        "id": "Eus7l9R5FEWh"
      },
      "outputs": [],
      "source": [
        "# Crear función lambda para la función de hipótesis\n",
        "# Calcular el total de muestras a partir de los datos (n)\n",
        "# Función para hacer la predicción de y\n",
        "def predict(x, theta_0, theta_1):\n",
        "    return theta_0 + theta_1 * x\n",
        "\n",
        "# Función para calcular los gradientes en cada iteración\n",
        "\n",
        "\n",
        "def compute_gradients(x, y, theta_0, theta_1):\n",
        "    predictions = predict(x, theta_0, theta_1)\n",
        "    gradient_0 = (1 / m) * np.sum(predictions - y)\n",
        "    gradient_1 = (1 / m) * np.sum((predictions - y) * x)\n",
        "    return gradient_0, gradient_1\n",
        "\n",
        "# Función para realizar una iteración de actualización de theta\n",
        "\n",
        "\n",
        "def gradient_descent_step(x, y, theta_0, theta_1, alpha):\n",
        "    gradient_0, gradient_1 = compute_gradients(x, y, theta_0, theta_1)\n",
        "    # Actualizar los valores de theta\n",
        "    theta_0 = theta_0 - alpha * gradient_0\n",
        "    theta_1 = theta_1 - alpha * gradient_1\n",
        "    return theta_0, theta_1"
      ]
    },
    {
      "cell_type": "markdown",
      "metadata": {
        "id": "zPEuQ5VwD1LS"
      },
      "source": [
        "## Iteración 1\n",
        "En cada iteración debemos calcular el valor de la derivada de la función de costo, que se obtiene a partir de los datos estimados, $h_\\theta(x_i)$, y reales, $y_i$:\n",
        "\n",
        "$\\frac{∂J_{θ}}{∂θ_0} = \\frac{1}{n}\\sum_{i=1}^{n}(h_θ(x_i)-y_i)$\n",
        "\n",
        "$\\frac{∂J_{θ}}{∂θ_1} = \\frac{1}{n}\\sum_{i=1}^{n}(h_θ(x_i)-y_i)x_i$"
      ]
    },
    {
      "cell_type": "code",
      "execution_count": 6,
      "metadata": {
        "id": "yHcybZTvDFIc"
      },
      "outputs": [],
      "source": [
        "# Calcular delta para theta0 y para cada muestra\n",
        "# Calcular delta para theta1 y para cada muestra\n",
        "\n",
        "# Calcular sumatorias y promedio\n",
        "# Primera iteración\n",
        "theta_0, theta_1 = gradient_descent_step(x, y, theta_0, theta_1, alpha)\n",
        "\n",
        "# Guardar resultados de la primera iteración\n",
        "theta_0_iter1, theta_1_iter1 = theta_0, theta_1"
      ]
    },
    {
      "cell_type": "markdown",
      "metadata": {
        "id": "ZFXslV-oIkwo"
      },
      "source": [
        "Finalmente, debemos actualizar los valores de los hiper-parámetros, recordando que $\\theta_j=\\theta_j-\\alpha \\frac{∂J_{θ}}{∂θ_j}$:"
      ]
    },
    {
      "cell_type": "code",
      "execution_count": 4,
      "metadata": {
        "id": "b_BdeL4yI5AM"
      },
      "outputs": [],
      "source": [
        "# Actualizar theta0\n",
        "# Actualizar theta1"
      ]
    },
    {
      "cell_type": "markdown",
      "metadata": {
        "id": "vd4vljVcD1Pq"
      },
      "source": [
        "## Iteración 2"
      ]
    },
    {
      "cell_type": "code",
      "execution_count": 7,
      "metadata": {
        "id": "Ns0dwwyRI-k0"
      },
      "outputs": [],
      "source": [
        "# Repetir procedimiento de la iteración pasada\n",
        "# Segunda iteración\n",
        "theta_0, theta_1 = gradient_descent_step(x, y, theta_0, theta_1, alpha)\n",
        "\n",
        "# Guardar resultados de la segunda iteración\n",
        "theta_0_iter2, theta_1_iter2 = theta_0, theta_1"
      ]
    },
    {
      "cell_type": "markdown",
      "metadata": {
        "id": "m9qKJK-EN75A"
      },
      "source": [
        "## Evaluación"
      ]
    },
    {
      "cell_type": "code",
      "execution_count": 8,
      "metadata": {
        "id": "o5B5kJhQN-W1"
      },
      "outputs": [
        {
          "data": {
            "text/plain": [
              "(4.875, 164.0, -3986.6875, -199076.1875, -8564262.75)"
            ]
          },
          "execution_count": 8,
          "metadata": {},
          "output_type": "execute_result"
        }
      ],
      "source": [
        "# Predecir el puntaje de un estudiante con 43 en el primer examen después de la segunda iteración\n",
        "estimated_score = predict(43, theta_0, theta_1)\n",
        "\n",
        "theta_0_iter1, theta_1_iter1, theta_0_iter2, theta_1_iter2, estimated_score"
      ]
    }
  ],
  "metadata": {
    "colab": {
      "provenance": []
    },
    "kernelspec": {
      "display_name": "Python 3",
      "name": "python3"
    },
    "language_info": {
      "codemirror_mode": {
        "name": "ipython",
        "version": 3
      },
      "file_extension": ".py",
      "mimetype": "text/x-python",
      "name": "python",
      "nbconvert_exporter": "python",
      "pygments_lexer": "ipython3",
      "version": "3.8.3"
    }
  },
  "nbformat": 4,
  "nbformat_minor": 0
}
